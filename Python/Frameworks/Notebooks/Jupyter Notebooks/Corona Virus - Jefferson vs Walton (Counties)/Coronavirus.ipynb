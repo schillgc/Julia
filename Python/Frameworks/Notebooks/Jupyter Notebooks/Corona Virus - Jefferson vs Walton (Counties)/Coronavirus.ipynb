{
 "cells": [
  {
   "cell_type": "code",
   "execution_count": null,
   "metadata": {},
   "outputs": [],
   "source": [
    "# import"
   ]
  },
  {
   "cell_type": "code",
   "execution_count": null,
   "metadata": {},
   "outputs": [],
   "source": [
    "total_confirmed_cases_in_jefferson_county = 13281\n",
    "total_deaths_in_jefferson_county = 285\n",
    "yesterdays_confirmed_cases_in_jefferson_county = 175\n",
    "yesterdays_deaths_in_jefferson_county = 6\n",
    "population_in_jefferson_county = 766757\n",
    "\n",
    "total_confirmed_cases_in_walton_county = 1774\n",
    "total_deaths_in_walton_county = 22\n",
    "yesterdays_confirmed_cases_in_walton_county = 12\n",
    "yesterdays_deaths_in_walton_county = 2\n",
    "population_in_walton_county = 74071"
   ]
  },
  {
   "cell_type": "code",
   "execution_count": null,
   "metadata": {},
   "outputs": [],
   "source": []
  }
 ],
 "metadata": {
  "kernelspec": {
   "display_name": "Python 3",
   "language": "python",
   "name": "python3"
  },
  "language_info": {
   "codemirror_mode": {
    "name": "ipython",
    "version": 3
   },
   "file_extension": ".py",
   "mimetype": "text/x-python",
   "name": "python",
   "nbconvert_exporter": "python",
   "pygments_lexer": "ipython3",
   "version": "3.7.7"
  }
 },
 "nbformat": 4,
 "nbformat_minor": 4
}
